{
 "cells": [
  {
   "cell_type": "code",
   "execution_count": null,
   "id": "c890807f-6400-44b7-8023-652180bb4f01",
   "metadata": {},
   "outputs": [],
   "source": [
    "def system_annotation(entities,NECLASSES) :\n",
    "    print(entities)\n",
    "    system = set() # do we ever have multiple identical entities, if so, set functions should not be used?\n",
    "    for ent in entities :  # one case is not-found errors, should they be unique? notfound+string? \n",
    "                           # just ignore no_qid_found completely : not a link so never contributes to P or R \n",
    "        if ent[1] in NECLASSES and ent[2] != 'no_qid_found' : \n",
    "            system.add(ent[2])\n",
    "    return system \n",
    "\n",
    "def init_score() = \n",
    "    score = {'overlap':0, 'system' : 0, 'gold' : 0}\n",
    "    return score \n",
    "    \n",
    "def update_score(system,gold,score) :\n",
    "    overlap = system & gold\n",
    "    score['overlap'] += len(overlap)\n",
    "    score['system'] += len(system)\n",
    "    score['gold'] += len(gold)\n",
    "\n",
    "def print_score(score) :\n",
    "    try :\n",
    "        precision = score['overlap']/score['system']\n",
    "    except :\n",
    "        precision = 0\n",
    "    try :\n",
    "        recall = score['overlap']/score['gold']\n",
    "    except :\n",
    "        recall = 0\n",
    "    try :\n",
    "        fscore = 2 * ((precision * recall) / (precision + recall))\n",
    "    except :\n",
    "        fscore = 0\n",
    "    print('precision:{:.3f}, recall:{:.3f}, fscore:{:.3f}'.format(precision,recall,fscore))\n",
    "\n",
    "def print_spacy_qids(qids,ents) :\n",
    "    for ent in ents :\n",
    "        if  ent[2] in qids :\n",
    "            print(ent)\n",
    "            qids.discard(ent[2])\n",
    "    print(\"\") "
   ]
  }
 ],
 "metadata": {
  "kernelspec": {
   "display_name": "Python 3 (ipykernel)",
   "language": "python",
   "name": "python3"
  },
  "language_info": {
   "codemirror_mode": {
    "name": "ipython",
    "version": 3
   },
   "file_extension": ".py",
   "mimetype": "text/x-python",
   "name": "python",
   "nbconvert_exporter": "python",
   "pygments_lexer": "ipython3",
   "version": "3.10.12"
  }
 },
 "nbformat": 4,
 "nbformat_minor": 5
}
