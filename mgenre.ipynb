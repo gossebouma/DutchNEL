{
 "cells": [
  {
   "cell_type": "markdown",
   "id": "26a71df4-8d40-4fc0-8705-54976b6508c0",
   "metadata": {},
   "source": [
    "From the example at https://huggingface.co/facebook/mgenre-wiki\n",
    "\n",
    "paper https://direct.mit.edu/tacl/article/doi/10.1162/tacl_a_00460/110051/Multilingual-Autoregressive-Entity-Linking\n",
    "\n",
    "\n",
    "## install\n",
    "\n",
    "get the genre code from https://github.com/facebookresearch/GENRE \n",
    "then do pip3 install . \n",
    "\n",
    "and do pip3 install marisa-trie\n"
   ]
  },
  {
   "cell_type": "code",
   "execution_count": 5,
   "id": "3b8491cf-8601-4c37-9aad-e5f3f5ec958e",
   "metadata": {},
   "outputs": [
    {
     "name": "stderr",
     "output_type": "stream",
     "text": [
      "/home/p107437/.local/lib/python3.10/site-packages/transformers/tokenization_utils_base.py:1601: FutureWarning: `clean_up_tokenization_spaces` was not set. It will be set to `True` by default. This behavior will be depracted in transformers v4.45, and will be then set to `False` by default. For more details check this issue: https://github.com/huggingface/transformers/issues/31884\n",
      "  warnings.warn(\n"
     ]
    }
   ],
   "source": [
    "from transformers import AutoTokenizer, AutoModelForSeq2SeqLM\n",
    "\n",
    "tokenizer = AutoTokenizer.from_pretrained(\"facebook/mgenre-wiki\")\n",
    "\n",
    "model = AutoModelForSeq2SeqLM.from_pretrained(\"facebook/mgenre-wiki\").eval()\n",
    "\n",
    "# from genre.trie import Trie, MarisaTrie\n",
    "# import pickle \n",
    "\n",
    "#with open(\"mGENRE/titles_lang_all105_marisa_trie_with_redirect.pkl\", \"rb\") as f:\n",
    "#    trie = pickle.load(f)"
   ]
  },
  {
   "cell_type": "code",
   "execution_count": 2,
   "id": "d8df6634-3ca3-416a-91fc-eab8792ce98a",
   "metadata": {},
   "outputs": [],
   "source": [
    "#sentences = [\"[START] Einstein [END] era un fisico tedesco.\"]\n",
    "# sentences = [\"Ze was getrouwd met [START] Ron Graham [END] .\"]\n",
    "# sentences = [\"De wedstrijd kende een finale rijk aan schermutselingen, tot uiteindelijk [START] Stijn Devolder [END], vorige week reeds 3e in de Ronde van Zwitserland en dus in bloedvorm, er op 9 km van de streep vandoor ging.\"]\n",
    "sentences = ['Een confrontatie waar naar wordt uitgekeken is die tussen Agustín Delgado en Artur Boruc. [START] Boruc [END] had het in de beginfase een stuk drukker dan zijn collega Cristian Mora die voor de gelegenheid de Ecuadoraanse vlag op zijn wangen had laten aanbrengen.']\n",
    "sentences = tokenizer(sentences, return_tensors=\"pt\")"
   ]
  },
  {
   "cell_type": "markdown",
   "id": "810e72de-4bd1-439f-9ce3-dbe07725f18b",
   "metadata": {},
   "source": [
    "constrained beam search still does not work, trie gives an error..."
   ]
  },
  {
   "cell_type": "code",
   "execution_count": 3,
   "id": "34fa483f-c13b-4413-a91c-a514f4494829",
   "metadata": {},
   "outputs": [
    {
     "name": "stderr",
     "output_type": "stream",
     "text": [
      "/home/p107437/.local/lib/python3.10/site-packages/transformers/generation/utils.py:1258: UserWarning: Using the model-agnostic default `max_length` (=20) to control the generation length. We recommend setting `max_new_tokens` to control the maximum length of the generation.\n",
      "  warnings.warn(\n"
     ]
    }
   ],
   "source": [
    "outputs = model.generate(\n",
    "    **sentences, \n",
    "    num_beams=5,\n",
    "    num_return_sequences=5,\n",
    "    # OPTIONAL: use constrained beam search\n",
    "    # prefix_allowed_tokens_fn=lambda batch_id, sent: trie.get(sent.tolist()),\n",
    ")"
   ]
  },
  {
   "cell_type": "code",
   "execution_count": 4,
   "id": "0d907551-7880-4056-92a3-3271d505352b",
   "metadata": {},
   "outputs": [
    {
     "name": "stdout",
     "output_type": "stream",
     "text": [
      "['Artur Boruc >> nl', 'Boruc >> nl', 'Arthur Boruc >> nl', 'Artur Boruc >> en', 'Artur Boruc >> es']\n"
     ]
    }
   ],
   "source": [
    "results = tokenizer.batch_decode(outputs, skip_special_tokens=True)\n",
    "print(results)"
   ]
  },
  {
   "cell_type": "code",
   "execution_count": 1,
   "id": "626c3096-d66c-45d0-8517-786f2af8aee9",
   "metadata": {},
   "outputs": [],
   "source": [
    "import requests\n",
    "\n",
    "S = requests.Session()\n",
    "\n",
    "URL = \"https://nl.wikipedia.org/w/api.php\"\n",
    "\n",
    "PARAMS = {\n",
    "    \"action\": \"query\",\n",
    "    \"prop\": \"pageprops\",\n",
    "    \"format\": \"json\"\n",
    "}\n",
    "\n",
    "def find_qid(results) :\n",
    "    qid = 0\n",
    "    for result in results:\n",
    "        if result.endswith('nl') and not(qid) : \n",
    "            label = result.split(' >> ')[0]\n",
    "            PARAMS['titles'] = label\n",
    "            Wikipedia_data = S.get(url=URL, params=PARAMS).json()\n",
    "            Pages = Wikipedia_data['query']['pages']\n",
    "            for (key,val) in Pages.items() : \n",
    "                try : \n",
    "                    qid = val['pageprops']['wikibase_item']\n",
    "                    break\n",
    "                except : \n",
    "                    True\n",
    "    if qid == 0 :\n",
    "        print(results)\n",
    "    return(qid)"
   ]
  },
  {
   "cell_type": "code",
   "execution_count": null,
   "id": "c6928909-f05b-41a8-bb1b-5c94055e56d2",
   "metadata": {},
   "outputs": [],
   "source": [
    "find_qid(results)"
   ]
  },
  {
   "cell_type": "code",
   "execution_count": 2,
   "id": "a24d7f16-ee07-483e-b782-0fa2cf1c6128",
   "metadata": {},
   "outputs": [],
   "source": [
    "import WINNL_Utils\n",
    "    "
   ]
  },
  {
   "cell_type": "code",
   "execution_count": 3,
   "id": "1a07b062-f9f5-47ec-8442-0ceb41fd32c3",
   "metadata": {},
   "outputs": [
    {
     "data": {
      "text/plain": [
       "[(\" [START] Weyts [END] roept de slachthuissector op de ' rotte appels ' eruit te pikken :\",\n",
       "  'Q2271035')]"
      ]
     },
     "execution_count": 3,
     "metadata": {},
     "output_type": "execute_result"
    }
   ],
   "source": [
    "WINNL_Utils.winnl2mgenre(4125)"
   ]
  },
  {
   "cell_type": "code",
   "execution_count": 4,
   "id": "f14132bd-307b-410b-a21b-20f4bf2e579c",
   "metadata": {},
   "outputs": [],
   "source": [
    "import Linking_eval_Utils as eval\n",
    "\n",
    "def evaluate_winnl(Item) :\n",
    "    Annotations = WINNL_Utils.winnl2mgenre(Item)\n",
    "    for (String,QID) in Annotations :\n",
    "        sentences = tokenizer([String], return_tensors=\"pt\")\n",
    "        outputs = model.generate(\n",
    "            **sentences, \n",
    "            num_beams=5,\n",
    "            num_return_sequences=5\n",
    "        )\n",
    "        results = tokenizer.batch_decode(outputs, skip_special_tokens=True)\n",
    "        print(results)\n",
    "        predicted = find_qid(results)\n",
    "        print(predicted,QID)\n",
    "\n",
    "def evaluate_winnl_items(First,Last) :\n",
    "    score0 = {'overlap': 0, 'system': 0, 'gold': 0}\n",
    "    for Id in list(range(First,Last)) :\n",
    "        print(Id)\n",
    "        gold = WINNL_Utils.winnl_annotations(Id)\n",
    "        #print(gold)\n",
    "        Annotations = WINNL_Utils.winnl2mgenre(Id)\n",
    "        #print(Annotations)\n",
    "        if gold and 'Q404' not in gold : \n",
    "            system = set()\n",
    "            for (String,QID) in Annotations :\n",
    "                sentences = tokenizer([String], return_tensors=\"pt\")\n",
    "                outputs = model.generate(\n",
    "                    **sentences, \n",
    "                    num_beams=5,\n",
    "                    num_return_sequences=5\n",
    "                )\n",
    "                results = tokenizer.batch_decode(outputs, skip_special_tokens=True)\n",
    "                predicted = find_qid(results)\n",
    "                system.add(predicted)\n",
    "            #print(system)\n",
    "            eval.update_score(system,gold,score0)\n",
    "            print(score0)\n",
    "    eval.print_score(score0)\n",
    "        "
   ]
  },
  {
   "cell_type": "code",
   "execution_count": 6,
   "id": "4092938c-80e9-4b45-8f4c-1c1c5846e34e",
   "metadata": {},
   "outputs": [
    {
     "name": "stderr",
     "output_type": "stream",
     "text": [
      "/home/p107437/.local/lib/python3.10/site-packages/transformers/generation/utils.py:1258: UserWarning: Using the model-agnostic default `max_length` (=20) to control the generation length. We recommend setting `max_new_tokens` to control the maximum length of the generation.\n",
      "  warnings.warn(\n"
     ]
    },
    {
     "name": "stdout",
     "output_type": "stream",
     "text": [
      "['Animal Rights >> nl', 'Animal Rights (Verenigde Staten) >> nl', 'Animal Rights (Nederland) >> nl', 'Animal Rights (Verenigd Koninkrijk) >> nl', 'Animal Rights (band) >> nl']\n",
      "Q41444901 Q41444901\n",
      "['Bite Back >> nl', 'Bite Back >> en', 'Bite back >> nl', 'Bite Back >> de', 'Bite Back >> fr']\n",
      "Q21583395 Q21583395\n"
     ]
    }
   ],
   "source": [
    "evaluate_winnl(4127)"
   ]
  },
  {
   "cell_type": "code",
   "execution_count": 7,
   "id": "76789cad-6401-463f-9cfd-4af1fca57c91",
   "metadata": {},
   "outputs": [
    {
     "name": "stdout",
     "output_type": "stream",
     "text": [
      "4124\n",
      "4125\n",
      "['J.H. Weyts >> nl', 'Herman Weyts >> nl', 'J.J.H. Weyts >> nl', 'Judith Weyts >> nl', 'Franciscus Weyts >> nl']\n",
      "{'overlap': 0, 'system': 1, 'gold': 1}\n",
      "4126\n",
      "{'overlap': 1, 'system': 2, 'gold': 2}\n",
      "4127\n",
      "{'overlap': 3, 'system': 4, 'gold': 4}\n",
      "4128\n",
      "{'overlap': 4, 'system': 5, 'gold': 5}\n",
      "4129\n",
      "{'overlap': 7, 'system': 8, 'gold': 8}\n",
      "4130\n",
      "{'overlap': 8, 'system': 9, 'gold': 9}\n",
      "4131\n",
      "{'overlap': 10, 'system': 11, 'gold': 11}\n",
      "4132\n",
      "{'overlap': 11, 'system': 12, 'gold': 12}\n",
      "4133\n",
      "{'overlap': 12, 'system': 13, 'gold': 13}\n",
      "4134\n",
      "4135\n",
      "{'overlap': 13, 'system': 14, 'gold': 14}\n",
      "4136\n",
      "4137\n",
      "{'overlap': 15, 'system': 16, 'gold': 16}\n",
      "4138\n",
      "{'overlap': 17, 'system': 18, 'gold': 18}\n",
      "4139\n",
      "{'overlap': 17, 'system': 19, 'gold': 19}\n",
      "4140\n",
      "{'overlap': 18, 'system': 20, 'gold': 20}\n",
      "4141\n",
      "4142\n",
      "{'overlap': 19, 'system': 21, 'gold': 21}\n",
      "4143\n",
      "['Hit FM (Nederland) >> nl', 'Hit FM >> nl', 'Hit FM (België) >> nl', 'Hitfm >> nl', 'HitFM (Nederland) >> nl']\n",
      "{'overlap': 19, 'system': 22, 'gold': 22}\n",
      "4144\n",
      "4145\n",
      "4146\n",
      "{'overlap': 20, 'system': 23, 'gold': 23}\n",
      "4147\n",
      "{'overlap': 21, 'system': 24, 'gold': 24}\n",
      "4148\n",
      "{'overlap': 22, 'system': 25, 'gold': 25}\n",
      "4149\n",
      "{'overlap': 24, 'system': 27, 'gold': 27}\n",
      "4150\n",
      "{'overlap': 26, 'system': 29, 'gold': 29}\n",
      "4151\n",
      "{'overlap': 27, 'system': 30, 'gold': 30}\n",
      "4152\n",
      "{'overlap': 28, 'system': 31, 'gold': 31}\n",
      "4153\n",
      "{'overlap': 28, 'system': 32, 'gold': 32}\n",
      "4154\n",
      "['Medische Zending >> nl', 'Medische Zending (televisieprogramma) >> nl', 'Medische Zending (televisieserie) >> nl', 'Medische Zending (televisiezender) >> nl', 'Medische Zending (televisiereeks) >> nl']\n",
      "{'overlap': 28, 'system': 33, 'gold': 33}\n",
      "4155\n",
      "{'overlap': 30, 'system': 35, 'gold': 35}\n",
      "4156\n",
      "4157\n",
      "{'overlap': 31, 'system': 36, 'gold': 36}\n",
      "4158\n",
      "{'overlap': 32, 'system': 38, 'gold': 38}\n",
      "4159\n",
      "{'overlap': 32, 'system': 39, 'gold': 39}\n",
      "4160\n",
      "['Jadnanansing >> en', 'Jadnanansing >> jv', 'Jadnanansing >> de', 'Jadnanansing >> nl', 'Jadnanansing >> id']\n",
      "{'overlap': 32, 'system': 40, 'gold': 40}\n",
      "4161\n",
      "4162\n",
      "['Cees Sap >> nl', 'S.A.P. >> nl', 'Wim Sap >> nl', 'S.A.P.S.R. >> nl', 'Cees de Sap >> nl']\n",
      "{'overlap': 32, 'system': 41, 'gold': 41}\n",
      "4163\n",
      "{'overlap': 32, 'system': 42, 'gold': 42}\n",
      "4164\n",
      "{'overlap': 33, 'system': 43, 'gold': 43}\n",
      "4165\n",
      "4166\n",
      "4167\n",
      "4168\n",
      "{'overlap': 34, 'system': 44, 'gold': 44}\n",
      "4169\n",
      "{'overlap': 35, 'system': 45, 'gold': 45}\n",
      "4170\n",
      "{'overlap': 36, 'system': 46, 'gold': 46}\n",
      "4171\n",
      "4172\n",
      "{'overlap': 38, 'system': 48, 'gold': 48}\n",
      "4173\n",
      "{'overlap': 39, 'system': 49, 'gold': 49}\n",
      "4174\n",
      "4175\n",
      "{'overlap': 40, 'system': 50, 'gold': 50}\n",
      "4176\n",
      "['Robert Cailliau >> fr', 'Robert Cailliau >> pl', 'Robert Cailliau >> de', 'Robert Cailliau >> it', 'Robert Cailliau >> en']\n",
      "{'overlap': 40, 'system': 51, 'gold': 51}\n",
      "4177\n",
      "{'overlap': 41, 'system': 52, 'gold': 52}\n",
      "4178\n",
      "{'overlap': 42, 'system': 53, 'gold': 53}\n",
      "4179\n",
      "{'overlap': 43, 'system': 54, 'gold': 54}\n",
      "4180\n",
      "4181\n",
      "{'overlap': 44, 'system': 55, 'gold': 55}\n",
      "4182\n",
      "4183\n",
      "['De Pauw (televisieprogramma) >> nl', 'Christiaan de Pauw >> nl', 'Willem de Pauw >> nl', 'De Pauw (televisieserie) >> nl', 'Dirk de Pauw >> nl']\n",
      "{'overlap': 44, 'system': 56, 'gold': 56}\n",
      "4184\n",
      "{'overlap': 44, 'system': 57, 'gold': 57}\n",
      "4185\n",
      "['Jan Lembrechts >> nl', 'Joop Lembrechts >> nl', 'Wim Lembrechts >> nl', 'Piet Lembrechts >> nl', 'Lembrechts >> nl']\n",
      "{'overlap': 45, 'system': 59, 'gold': 59}\n",
      "4186\n",
      "['Lembrechts >> nl', 'Jan Lembrechts >> nl', 'Wim Lembrechts >> nl', 'Joop Lembrechts >> nl', 'Willem Lembrechts >> nl']\n",
      "{'overlap': 45, 'system': 60, 'gold': 60}\n",
      "4187\n",
      "['De Pauw (televisieserie) >> nl', 'De Pauw (televisieprogramma) >> nl', 'De Pauw (personage) >> nl', 'Paul de Pauw >> nl', 'Dirk de Pauw >> nl']\n",
      "{'overlap': 45, 'system': 62, 'gold': 62}\n",
      "4188\n",
      "{'overlap': 46, 'system': 63, 'gold': 63}\n",
      "4189\n",
      "{'overlap': 48, 'system': 65, 'gold': 65}\n",
      "4190\n",
      "{'overlap': 49, 'system': 66, 'gold': 66}\n",
      "4191\n",
      "{'overlap': 50, 'system': 67, 'gold': 67}\n",
      "4192\n",
      "{'overlap': 51, 'system': 68, 'gold': 68}\n",
      "4193\n",
      "{'overlap': 52, 'system': 69, 'gold': 69}\n",
      "4194\n",
      "{'overlap': 53, 'system': 70, 'gold': 70}\n",
      "4195\n",
      "{'overlap': 54, 'system': 71, 'gold': 71}\n",
      "4196\n",
      "{'overlap': 55, 'system': 72, 'gold': 72}\n",
      "4197\n",
      "{'overlap': 57, 'system': 74, 'gold': 74}\n",
      "4198\n",
      "{'overlap': 58, 'system': 75, 'gold': 75}\n",
      "4199\n",
      "{'overlap': 61, 'system': 78, 'gold': 78}\n",
      "4200\n",
      "{'overlap': 63, 'system': 80, 'gold': 80}\n",
      "4201\n",
      "['Boruc >> nl', 'Jorge Boruc >> nl', 'Carlos Boruc >> nl', 'Juan Carlos Boruc >> nl', 'Boruc >> en']\n",
      "{'overlap': 64, 'system': 82, 'gold': 82}\n",
      "4202\n",
      "{'overlap': 64, 'system': 83, 'gold': 83}\n",
      "4203\n",
      "['Damián Boruc >> nl', 'Michael Boruc >> nl', 'Petr Boruc >> nl', 'Damian Boruc >> nl', 'Miguel Boruc >> nl']\n",
      "{'overlap': 65, 'system': 86, 'gold': 86}\n",
      "4204\n",
      "['Petr Boruc >> nl', 'Zdeněk Boruc >> nl', 'Michael Boruc >> nl', 'Jiří Boruc >> nl', 'Alexander Boruc >> nl']\n",
      "{'overlap': 65, 'system': 87, 'gold': 87}\n",
      "4205\n",
      "{'overlap': 66, 'system': 88, 'gold': 88}\n",
      "4206\n",
      "['Boruc >> nl', 'Boruc (persoon) >> nl', 'Boruc (koning) >> nl', 'Boruc (zanger) >> nl', 'Boruc (zwaard) >> nl']\n",
      "{'overlap': 66, 'system': 89, 'gold': 89}\n",
      "4207\n",
      "{'overlap': 67, 'system': 90, 'gold': 90}\n",
      "4208\n",
      "{'overlap': 67, 'system': 91, 'gold': 91}\n",
      "4209\n",
      "['Lapid-Bennett >> nl', 'Lapid - Bennett >> nl', 'David Lapid-Bennett >> nl', 'David Lapid >> nl', 'David Lapid-Bennett >> en']\n",
      "{'overlap': 67, 'system': 92, 'gold': 92}\n",
      "4210\n",
      "{'overlap': 68, 'system': 93, 'gold': 93}\n",
      "4211\n",
      "{'overlap': 69, 'system': 94, 'gold': 94}\n",
      "4212\n",
      "{'overlap': 70, 'system': 95, 'gold': 95}\n",
      "4213\n",
      "{'overlap': 71, 'system': 96, 'gold': 96}\n",
      "4214\n",
      "{'overlap': 73, 'system': 98, 'gold': 98}\n",
      "4215\n",
      "4216\n",
      "{'overlap': 74, 'system': 99, 'gold': 99}\n",
      "4217\n",
      "{'overlap': 75, 'system': 100, 'gold': 100}\n",
      "4218\n",
      "{'overlap': 76, 'system': 101, 'gold': 101}\n",
      "4219\n",
      "{'overlap': 77, 'system': 102, 'gold': 102}\n",
      "4220\n",
      "{'overlap': 78, 'system': 103, 'gold': 103}\n",
      "4221\n",
      "4222\n",
      "{'overlap': 79, 'system': 104, 'gold': 104}\n",
      "4223\n",
      "{'overlap': 82, 'system': 107, 'gold': 107}\n",
      "precision:0.766, recall:0.766, fscore:0.766\n"
     ]
    }
   ],
   "source": [
    "evaluate_winnl_items(4124,4224)"
   ]
  },
  {
   "cell_type": "code",
   "execution_count": 30,
   "id": "955a9a4d-9ca1-466c-ac93-5feaf498862d",
   "metadata": {},
   "outputs": [
    {
     "data": {
      "text/plain": [
       "{'overlap': 0, 'system': 0, 'gold': 0}"
      ]
     },
     "execution_count": 30,
     "metadata": {},
     "output_type": "execute_result"
    }
   ],
   "source": [
    "Linking_eval_Utils.init_score()"
   ]
  },
  {
   "cell_type": "code",
   "execution_count": 33,
   "id": "7bf33a78-0f7c-48b5-9ecb-0af24390ddeb",
   "metadata": {},
   "outputs": [],
   "source": [
    "score = Linking_eval_Utils.init_score()"
   ]
  },
  {
   "cell_type": "code",
   "execution_count": 34,
   "id": "6587f18d-4791-4949-b559-6fb5c522931d",
   "metadata": {},
   "outputs": [
    {
     "data": {
      "text/plain": [
       "{'overlap': 0, 'system': 0, 'gold': 0}"
      ]
     },
     "execution_count": 34,
     "metadata": {},
     "output_type": "execute_result"
    }
   ],
   "source": [
    "score"
   ]
  },
  {
   "cell_type": "code",
   "execution_count": null,
   "id": "43e5114c-2972-49dd-83fd-58579ca02904",
   "metadata": {},
   "outputs": [],
   "source": []
  }
 ],
 "metadata": {
  "kernelspec": {
   "display_name": "Python 3 (ipykernel)",
   "language": "python",
   "name": "python3"
  },
  "language_info": {
   "codemirror_mode": {
    "name": "ipython",
    "version": 3
   },
   "file_extension": ".py",
   "mimetype": "text/x-python",
   "name": "python",
   "nbconvert_exporter": "python",
   "pygments_lexer": "ipython3",
   "version": "3.10.12"
  }
 },
 "nbformat": 4,
 "nbformat_minor": 5
}
