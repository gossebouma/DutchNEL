{
 "cells": [
  {
   "cell_type": "markdown",
   "id": "26a71df4-8d40-4fc0-8705-54976b6508c0",
   "metadata": {},
   "source": [
    "From the example at https://huggingface.co/facebook/mgenre-wiki\n",
    "\n",
    "paper https://direct.mit.edu/tacl/article/doi/10.1162/tacl_a_00460/110051/Multilingual-Autoregressive-Entity-Linking\n",
    "\n",
    "\n",
    "## install\n",
    "\n",
    "get the genre code from https://github.com/facebookresearch/GENRE \n",
    "then do pip3 install . \n",
    "\n",
    "and do pip3 install marisa-trie\n"
   ]
  },
  {
   "cell_type": "code",
   "execution_count": 1,
   "id": "3b8491cf-8601-4c37-9aad-e5f3f5ec958e",
   "metadata": {},
   "outputs": [
    {
     "name": "stderr",
     "output_type": "stream",
     "text": [
      "/home/p107437/.local/lib/python3.10/site-packages/transformers/tokenization_utils_base.py:1601: FutureWarning: `clean_up_tokenization_spaces` was not set. It will be set to `True` by default. This behavior will be depracted in transformers v4.45, and will be then set to `False` by default. For more details check this issue: https://github.com/huggingface/transformers/issues/31884\n",
      "  warnings.warn(\n"
     ]
    }
   ],
   "source": [
    "from transformers import AutoTokenizer, AutoModelForSeq2SeqLM\n",
    "\n",
    "tokenizer = AutoTokenizer.from_pretrained(\"facebook/mgenre-wiki\")\n",
    "\n",
    "model = AutoModelForSeq2SeqLM.from_pretrained(\"facebook/mgenre-wiki\").eval()\n",
    "\n",
    "# from genre.trie import Trie, MarisaTrie\n",
    "# import pickle \n",
    "\n",
    "#with open(\"mGENRE/titles_lang_all105_marisa_trie_with_redirect.pkl\", \"rb\") as f:\n",
    "#    trie = pickle.load(f)"
   ]
  },
  {
   "cell_type": "code",
   "execution_count": 10,
   "id": "d8df6634-3ca3-416a-91fc-eab8792ce98a",
   "metadata": {},
   "outputs": [],
   "source": [
    "#sentences = [\"[START] Einstein [END] era un fisico tedesco.\"]\n",
    "# sentences = [\"Ze was getrouwd met [BEGIN] Ron Graham [END] .\"]\n",
    "sentences = [\"De wedstrijd kende een finale rijk aan schermutselingen, tot uiteindelijk [START} Stijn Devolder [END], vorige week reeds 3e in de Ronde van Zwitserland en dus in bloedvorm, er op 9 km van de streep vandoor ging.\"]\n",
    "sentences = tokenizer(sentences, return_tensors=\"pt\")"
   ]
  },
  {
   "cell_type": "markdown",
   "id": "810e72de-4bd1-439f-9ce3-dbe07725f18b",
   "metadata": {},
   "source": [
    "constrained beam search still does not work, trie gives an error..."
   ]
  },
  {
   "cell_type": "code",
   "execution_count": 12,
   "id": "34fa483f-c13b-4413-a91c-a514f4494829",
   "metadata": {},
   "outputs": [],
   "source": [
    "outputs = model.generate(\n",
    "    **sentences, \n",
    "    num_beams=5,\n",
    "    num_return_sequences=5,\n",
    "    # OPTIONAL: use constrained beam search\n",
    "    # prefix_allowed_tokens_fn=lambda batch_id, sent: trie.get(sent.tolist()),\n",
    ")"
   ]
  },
  {
   "cell_type": "code",
   "execution_count": 17,
   "id": "0d907551-7880-4056-92a3-3271d505352b",
   "metadata": {},
   "outputs": [
    {
     "name": "stdout",
     "output_type": "stream",
     "text": [
      "['Stijn Devolder >> nl', 'Stijn Devolder (wielrenner) >> nl', 'Stijn De Volder >> nl', 'Stijn Devolder (wielrenner, 1991) >> nl', 'Stijn Devolder (wielrenner, 1970) >> nl']\n"
     ]
    }
   ],
   "source": [
    "results = tokenizer.batch_decode(outputs, skip_special_tokens=True)\n",
    "print(results)"
   ]
  },
  {
   "cell_type": "code",
   "execution_count": 28,
   "id": "626c3096-d66c-45d0-8517-786f2af8aee9",
   "metadata": {},
   "outputs": [],
   "source": [
    "import requests\n",
    "\n",
    "S = requests.Session()\n",
    "\n",
    "URL = \"https://nl.wikipedia.org/w/api.php\"\n",
    "\n",
    "PARAMS = {\n",
    "    \"action\": \"query\",\n",
    "    \"prop\": \"pageprops\",\n",
    "    \"format\": \"json\"\n",
    "}\n",
    "\n",
    "def find_qid(results) :\n",
    "    qid = 0\n",
    "    for result in results:\n",
    "        if result.endswith('nl') and not(qid) : \n",
    "            label = result.split(' >> ')[0]\n",
    "            PARAMS['titles'] = label\n",
    "            Wikipedia_data = S.get(url=URL, params=PARAMS).json()\n",
    "            Pages = Wikipedia_data['query']['pages']\n",
    "            for (key,val) in Pages.items() : \n",
    "                try : \n",
    "                    qid = val['pageprops']['wikibase_item']\n",
    "                    break\n",
    "                except : \n",
    "                    True\n",
    "    return(qid)"
   ]
  },
  {
   "cell_type": "code",
   "execution_count": 29,
   "id": "c6928909-f05b-41a8-bb1b-5c94055e56d2",
   "metadata": {},
   "outputs": [
    {
     "data": {
      "text/plain": [
       "'Q382383'"
      ]
     },
     "execution_count": 29,
     "metadata": {},
     "output_type": "execute_result"
    }
   ],
   "source": [
    "find_qid(results)"
   ]
  },
  {
   "cell_type": "code",
   "execution_count": null,
   "id": "a24d7f16-ee07-483e-b782-0fa2cf1c6128",
   "metadata": {},
   "outputs": [],
   "source": [
    "\n",
    "    "
   ]
  }
 ],
 "metadata": {
  "kernelspec": {
   "display_name": "Python 3 (ipykernel)",
   "language": "python",
   "name": "python3"
  },
  "language_info": {
   "codemirror_mode": {
    "name": "ipython",
    "version": 3
   },
   "file_extension": ".py",
   "mimetype": "text/x-python",
   "name": "python",
   "nbconvert_exporter": "python",
   "pygments_lexer": "ipython3",
   "version": "3.10.12"
  }
 },
 "nbformat": 4,
 "nbformat_minor": 5
}
